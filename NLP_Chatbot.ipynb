{
    "cells": [
        {
            "cell_type": "code",
            "execution_count": 2,
            "id": "53681464",
            "metadata": {},
            "outputs": [],
            "source": "import findspark\nfindspark.init()\nimport pyspark # only run after findspark.init()\nfrom pyspark.sql import SparkSession"
        },
        {
            "cell_type": "code",
            "execution_count": 3,
            "id": "826d0a6c",
            "metadata": {},
            "outputs": [],
            "source": "spark = SparkSession.builder \\\n   .master(\"local\") \\\n   .appName(\"Natural Language Processing\") \\\n   .config(\"spark.executor.memory\", \"6gb\") \\\n   .getOrCreate()"
        },
        {
            "cell_type": "code",
            "execution_count": 4,
            "id": "341d51bb",
            "metadata": {},
            "outputs": [],
            "source": "df = spark.read.format('com.databricks.spark.csv')\\\n                    .options(header='true', inferschema='true')\\\n                    .load('TherapyBotSession.csv')"
        },
        {
            "cell_type": "code",
            "execution_count": 5,
            "id": "7e7796b8",
            "metadata": {},
            "outputs": [
                {
                    "name": "stdout",
                    "output_type": "stream",
                    "text": "+---+---------------+--------------------+----+----+----+----+\n| id|          label|                chat| _c3| _c4| _c5| _c6|\n+---+---------------+--------------------+----+----+----+----+\n|  1|       escalate|I had a friend th...|null|null|null|null|\n|  2|       escalate|\"My friend dealt ...|null|null|null|null|\n|  3|       escalate|Friend who had bi...|null|null|null|null|\n|  4|do_not_escalate|Over the internet...|null|null|null|null|\n|  5|       escalate|Having gone throu...|null|null|null|null|\n|  6|       escalate|My now girlfriend...|null|null|null|null|\n|  7|do_not_escalate|\"Only really one ...|null|null|null|null|\n|  8|do_not_escalate|Now that I've bee...|null|null|null|null|\n|  9|do_not_escalate|I've always been ...|null|null|null|null|\n| 10|       escalate|I feel completely...|null|null|null|null|\n| 11|do_not_escalate|Took a week off w...|null|null|null|null|\n| 12|       escalate|One of my best fr...|null|null|null|null|\n| 13|       escalate|I've had some fri...|null|null|null|null|\n| 14|do_not_escalate|Haha. In eight gr...|null|null|null|null|\n| 15|do_not_escalate|Some of my friend...|null|null|null|null|\n| 16|       escalate|I feel like depre...|null|null|null|null|\n| 17|       escalate|i've had a couple...|null|null|null|null|\n| 18|       escalate|I will always lis...|null|null|null|null|\n| 19|do_not_escalate|A lot for my frie...|null|null|null|null|\n| 20|do_not_escalate|When my friend ne...|null|null|null|null|\n+---+---------------+--------------------+----+----+----+----+\nonly showing top 20 rows\n\n"
                }
            ],
            "source": "df.show()"
        },
        {
            "cell_type": "code",
            "execution_count": 6,
            "id": "2511765a",
            "metadata": {},
            "outputs": [],
            "source": "df = df.select('id', 'label', 'chat')"
        },
        {
            "cell_type": "code",
            "execution_count": 7,
            "id": "42ef2233",
            "metadata": {},
            "outputs": [
                {
                    "name": "stdout",
                    "output_type": "stream",
                    "text": "+---+---------------+--------------------+\n| id|          label|                chat|\n+---+---------------+--------------------+\n|  1|       escalate|I had a friend th...|\n|  2|       escalate|\"My friend dealt ...|\n|  3|       escalate|Friend who had bi...|\n|  4|do_not_escalate|Over the internet...|\n|  5|       escalate|Having gone throu...|\n|  6|       escalate|My now girlfriend...|\n|  7|do_not_escalate|\"Only really one ...|\n|  8|do_not_escalate|Now that I've bee...|\n|  9|do_not_escalate|I've always been ...|\n| 10|       escalate|I feel completely...|\n| 11|do_not_escalate|Took a week off w...|\n| 12|       escalate|One of my best fr...|\n| 13|       escalate|I've had some fri...|\n| 14|do_not_escalate|Haha. In eight gr...|\n| 15|do_not_escalate|Some of my friend...|\n| 16|       escalate|I feel like depre...|\n| 17|       escalate|i've had a couple...|\n| 18|       escalate|I will always lis...|\n| 19|do_not_escalate|A lot for my frie...|\n| 20|do_not_escalate|When my friend ne...|\n+---+---------------+--------------------+\nonly showing top 20 rows\n\n"
                }
            ],
            "source": "df.show()"
        },
        {
            "cell_type": "code",
            "execution_count": 8,
            "id": "ddfa6bdc",
            "metadata": {},
            "outputs": [
                {
                    "name": "stdout",
                    "output_type": "stream",
                    "text": "+---------------+-----+\n|          label|count|\n+---------------+-----+\n|do_not_escalate|   65|\n|       escalate|   35|\n+---------------+-----+\n\n"
                }
            ],
            "source": "df.groupBy(\"label\") \\\n    .count() \\\n    .orderBy(\"count\", ascending = False) \\\n    .show()"
        },
        {
            "cell_type": "code",
            "execution_count": 9,
            "id": "d9ff82cc",
            "metadata": {},
            "outputs": [],
            "source": "import pyspark.sql.functions as F\ndf = df.withColumn('word_count',F.size(F.split(F.col('chat'),' ')))"
        },
        {
            "cell_type": "code",
            "execution_count": 10,
            "id": "f0a0a545",
            "metadata": {},
            "outputs": [
                {
                    "name": "stdout",
                    "output_type": "stream",
                    "text": "+---+---------------+--------------------+----------+\n| id|          label|                chat|word_count|\n+---+---------------+--------------------+----------+\n|  1|       escalate|I had a friend th...|       304|\n|  2|       escalate|\"My friend dealt ...|       184|\n|  3|       escalate|Friend who had bi...|        90|\n|  4|do_not_escalate|Over the internet...|        88|\n|  5|       escalate|Having gone throu...|        71|\n|  6|       escalate|My now girlfriend...|        73|\n|  7|do_not_escalate|\"Only really one ...|        74|\n|  8|do_not_escalate|Now that I've bee...|        62|\n|  9|do_not_escalate|I've always been ...|        60|\n| 10|       escalate|I feel completely...|        56|\n| 11|do_not_escalate|Took a week off w...|        60|\n| 12|       escalate|One of my best fr...|        59|\n| 13|       escalate|I've had some fri...|        50|\n| 14|do_not_escalate|Haha. In eight gr...|        55|\n| 15|do_not_escalate|Some of my friend...|        49|\n| 16|       escalate|I feel like depre...|        41|\n| 17|       escalate|i've had a couple...|        38|\n| 18|       escalate|I will always lis...|        41|\n| 19|do_not_escalate|A lot for my frie...|        44|\n| 20|do_not_escalate|When my friend ne...|        42|\n+---+---------------+--------------------+----------+\nonly showing top 20 rows\n\n"
                }
            ],
            "source": "df.show()"
        },
        {
            "cell_type": "code",
            "execution_count": 11,
            "id": "56588ccc",
            "metadata": {},
            "outputs": [
                {
                    "name": "stdout",
                    "output_type": "stream",
                    "text": "+---------------+-----------------+\n|          label|   avg_word_count|\n+---------------+-----------------+\n|       escalate|             44.0|\n|do_not_escalate|20.29230769230769|\n+---------------+-----------------+\n\n"
                }
            ],
            "source": "df.groupBy('label')\\\n    .agg(F.avg('word_count').alias('avg_word_count'))\\\n    .orderBy('avg_word_count', ascending = False) \\\n    .show()"
        },
        {
            "cell_type": "code",
            "execution_count": 12,
            "id": "24c8b05f",
            "metadata": {},
            "outputs": [],
            "source": "df_plot = df.select('id', 'word_count').toPandas()"
        },
        {
            "cell_type": "code",
            "execution_count": 13,
            "id": "c2c0b3dc",
            "metadata": {},
            "outputs": [
                {
                    "data": {
                        "image/png": "[encoded data removed]",
                        "text/plain": "<Figure size 1152x432 with 1 Axes>"
                    },
                    "metadata": {
                        "needs_background": "light"
                    },
                    "output_type": "display_data"
                }
            ],
            "source": "import matplotlib.pyplot as plt\n%matplotlib inline\n\ndf_plot.set_index('id', inplace=True)\ndf_plot.plot(kind='bar', figsize=(16, 6))\nplt.ylabel('Word Count')\nplt.title('Word Count distribution')\nplt.show()"
        },
        {
            "cell_type": "code",
            "execution_count": 15,
            "id": "f274ff12",
            "metadata": {},
            "outputs": [
                {
                    "name": "stdout",
                    "output_type": "stream",
                    "text": "Collecting textblob\n  Downloading textblob-0.15.3-py2.py3-none-any.whl (636 kB)\nRequirement already satisfied: nltk>=3.1 in c:\\anaconda3\\envs\\keras_env\\lib\\site-packages (from textblob) (3.5)\nRequirement already satisfied: click in c:\\anaconda3\\envs\\keras_env\\lib\\site-packages (from nltk>=3.1->textblob) (7.1.2)\nRequirement already satisfied: tqdm in c:\\anaconda3\\envs\\keras_env\\lib\\site-packages (from nltk>=3.1->textblob) (4.50.2)\nRequirement already satisfied: regex in c:\\anaconda3\\envs\\keras_env\\lib\\site-packages (from nltk>=3.1->textblob) (2020.10.15)\nRequirement already satisfied: joblib in c:\\anaconda3\\envs\\keras_env\\lib\\site-packages (from nltk>=3.1->textblob) (1.0.1)\nInstalling collected packages: textblob\nSuccessfully installed textblob-0.15.3\n"
                },
                {
                    "name": "stderr",
                    "output_type": "stream",
                    "text": "WARNING: Ignoring invalid distribution -atplotlib (c:\\anaconda3\\envs\\keras_env\\lib\\site-packages)\nWARNING: Ignoring invalid distribution -atplotlib (c:\\anaconda3\\envs\\keras_env\\lib\\site-packages)\nWARNING: Ignoring invalid distribution -atplotlib (c:\\anaconda3\\envs\\keras_env\\lib\\site-packages)\nWARNING: Ignoring invalid distribution -atplotlib (c:\\anaconda3\\envs\\keras_env\\lib\\site-packages)\nWARNING: Ignoring invalid distribution -atplotlib (c:\\anaconda3\\envs\\keras_env\\lib\\site-packages)\nWARNING: Ignoring invalid distribution -atplotlib (c:\\anaconda3\\envs\\keras_env\\lib\\site-packages)\nWARNING: Ignoring invalid distribution -atplotlib (c:\\anaconda3\\envs\\keras_env\\lib\\site-packages)\n"
                }
            ],
            "source": "!pip3 install textblob"
        },
        {
            "cell_type": "code",
            "execution_count": 16,
            "id": "6e8c6ffe",
            "metadata": {},
            "outputs": [],
            "source": "from textblob import TextBlob\ndef sentiment_score(chat):\n        return TextBlob(chat).sentiment.polarity"
        },
        {
            "cell_type": "code",
            "execution_count": 18,
            "id": "eb12a0fc",
            "metadata": {},
            "outputs": [],
            "source": "from pyspark.sql.types import FloatType\nsentiment_score_udf = F.udf(lambda x: sentiment_score(x), FloatType())"
        },
        {
            "cell_type": "code",
            "execution_count": 24,
            "id": "a77e29c3",
            "metadata": {},
            "outputs": [
                {
                    "name": "stdout",
                    "output_type": "stream",
                    "text": "+---+---------------+--------------------+----------+---------------+\n| id|          label|                chat|word_count|sentiment_score|\n+---+---------------+--------------------+----------+---------------+\n|  1|       escalate|I had a friend th...|       304|    0.018961353|\n|  2|       escalate|\"My friend dealt ...|       184|     0.20601852|\n|  3|       escalate|Friend who had bi...|        90|    0.008333334|\n|  4|do_not_escalate|Over the internet...|        88|    0.045833334|\n|  5|       escalate|Having gone throu...|        71|         0.0125|\n|  6|       escalate|My now girlfriend...|        73|     0.06333333|\n|  7|do_not_escalate|\"Only really one ...|        74|    0.036363635|\n|  8|do_not_escalate|Now that I've bee...|        62|          0.125|\n|  9|do_not_escalate|I've always been ...|        60|           0.31|\n| 10|       escalate|I feel completely...|        56|      -0.078125|\n| 11|do_not_escalate|Took a week off w...|        60|     0.16666667|\n| 12|       escalate|One of my best fr...|        59|            0.4|\n| 13|       escalate|I've had some fri...|        50|           0.19|\n| 14|do_not_escalate|Haha. In eight gr...|        55|     0.29666665|\n| 15|do_not_escalate|Some of my friend...|        49|            0.4|\n| 16|       escalate|I feel like depre...|        41|           0.05|\n| 17|       escalate|i've had a couple...|        38|     0.16666667|\n| 18|       escalate|I will always lis...|        41|         -0.025|\n| 19|do_not_escalate|A lot for my frie...|        44|    0.035858586|\n| 20|do_not_escalate|When my friend ne...|        42|   -0.094444446|\n+---+---------------+--------------------+----------+---------------+\nonly showing top 20 rows\n\n"
                }
            ],
            "source": "df = df.select('id', 'label', 'chat','word_count',\n                   sentiment_score_udf('chat').alias('sentiment_score'))\ndf.show()"
        },
        {
            "cell_type": "code",
            "execution_count": 25,
            "id": "f7b7f234",
            "metadata": {},
            "outputs": [
                {
                    "name": "stdout",
                    "output_type": "stream",
                    "text": "+---------------+--------------------+\n|          label| avg_sentiment_score|\n+---------------+--------------------+\n|       escalate| 0.06338859780558519|\n|do_not_escalate|0.031975071089198955|\n+---------------+--------------------+\n\n"
                }
            ],
            "source": "df.groupBy('label')\\\n    .agg(F.avg('sentiment_score').alias('avg_sentiment_score'))\\\n    .orderBy('avg_sentiment_score', ascending = False) \\\n    .show()"
        },
        {
            "cell_type": "code",
            "execution_count": 26,
            "id": "48c1bc26",
            "metadata": {},
            "outputs": [
                {
                    "name": "stdout",
                    "output_type": "stream",
                    "text": "+---+---------------+--------------------+----------+---------------+--------------------+\n| id|          label|                chat|word_count|sentiment_score|               words|\n+---+---------------+--------------------+----------+---------------+--------------------+\n|  1|       escalate|I had a friend th...|       304|    0.018961353|[I, had, a, frien...|\n|  2|       escalate|\"My friend dealt ...|       184|     0.20601852|[\"My, friend, dea...|\n|  3|       escalate|Friend who had bi...|        90|    0.008333334|[Friend, who, had...|\n|  4|do_not_escalate|Over the internet...|        88|    0.045833334|[Over, the, inter...|\n|  5|       escalate|Having gone throu...|        71|         0.0125|[Having, gone, th...|\n|  6|       escalate|My now girlfriend...|        73|     0.06333333|[My, now, girlfri...|\n|  7|do_not_escalate|\"Only really one ...|        74|    0.036363635|[\"Only, really, o...|\n|  8|do_not_escalate|Now that I've bee...|        62|          0.125|[Now, that, I've,...|\n|  9|do_not_escalate|I've always been ...|        60|           0.31|[I've, always, be...|\n| 10|       escalate|I feel completely...|        56|      -0.078125|[I, feel, complet...|\n| 11|do_not_escalate|Took a week off w...|        60|     0.16666667|[Took, a, week, o...|\n| 12|       escalate|One of my best fr...|        59|            0.4|[One, of, my, bes...|\n| 13|       escalate|I've had some fri...|        50|           0.19|[I've, had, some,...|\n| 14|do_not_escalate|Haha. In eight gr...|        55|     0.29666665|[Haha., In, eight...|\n| 15|do_not_escalate|Some of my friend...|        49|            0.4|[Some, of, my, fr...|\n| 16|       escalate|I feel like depre...|        41|           0.05|[I, feel, like, d...|\n| 17|       escalate|i've had a couple...|        38|     0.16666667|[i've, had, a, co...|\n| 18|       escalate|I will always lis...|        41|         -0.025|[I, will, always,...|\n| 19|do_not_escalate|A lot for my frie...|        44|    0.035858586|[A, lot, for, my,...|\n| 20|do_not_escalate|When my friend ne...|        42|   -0.094444446|[When, my, friend...|\n+---+---------------+--------------------+----------+---------------+--------------------+\nonly showing top 20 rows\n\n"
                }
            ],
            "source": "df = df.withColumn('words',F.split(F.col('chat'),' '))\ndf.show()"
        },
        {
            "cell_type": "code",
            "execution_count": 27,
            "id": "bbc3002d",
            "metadata": {},
            "outputs": [],
            "source": "stop_words = ['i','me','my','myself','we','our','ours','ourselves',\n              'you','your','yours','yourself','yourselves','he','him',\n              'his','himself','she','her','hers','herself','it','its',\n              'itself','they','them','their','theirs','themselves',\n              'what','which','who','whom','this','that','these','those',\n              'am','is','are','was','were','be','been','being','have',\n              'has','had','having','do','does','did','doing','a','an',\n              'the','and','but','if','or','because','as','until','while',\n              'of','at','by','for','with','about','against','between',\n              'into','through','during','before','after','above','below',\n              'to','from','up','down','in','out','on','off','over','under',\n              'again','further','then','once','here','there','when','where',\n              'why','how','all','any','both','each','few','more','most',\n              'other','some','such','no','nor','not','only','own','same',\n              'so','than','too','very','can','will','just','don','should','now']"
        },
        {
            "cell_type": "code",
            "execution_count": 28,
            "id": "9079cad2",
            "metadata": {},
            "outputs": [],
            "source": "from pyspark.ml.feature import StopWordsRemover"
        },
        {
            "cell_type": "code",
            "execution_count": 29,
            "id": "7f505cc1",
            "metadata": {},
            "outputs": [],
            "source": "stopwordsRemovalFeature = StopWordsRemover(inputCol=\"words\", \n                                           outputCol=\"words without stop\").setStopWords(stop_words)"
        },
        {
            "cell_type": "code",
            "execution_count": 30,
            "id": "cb09facf",
            "metadata": {},
            "outputs": [],
            "source": "from pyspark.ml import Pipeline\nstopWordRemovalPipeline = Pipeline(stages=[stopwordsRemovalFeature])\npipelineFitRemoveStopWords = stopWordRemovalPipeline.fit(df)"
        },
        {
            "cell_type": "code",
            "execution_count": 31,
            "id": "997cc2d8",
            "metadata": {},
            "outputs": [
                {
                    "name": "stdout",
                    "output_type": "stream",
                    "text": "+--------------------+--------------------+\n|               words|  words without stop|\n+--------------------+--------------------+\n|[I, had, a, frien...|[friend, would, g...|\n|[\"My, friend, dea...|[\"My, friend, dea...|\n|[Friend, who, had...|[Friend, big, add...|\n|[Over, the, inter...|[internet, LOT, p...|\n|[Having, gone, th...|[gone, depression...|\n+--------------------+--------------------+\nonly showing top 5 rows\n\n"
                }
            ],
            "source": "df = pipelineFitRemoveStopWords.transform(df)\ndf.select('words', 'words without stop').show(5)"
        },
        {
            "cell_type": "code",
            "execution_count": 33,
            "id": "094fae09",
            "metadata": {},
            "outputs": [
                {
                    "name": "stdout",
                    "output_type": "stream",
                    "text": "+--------------------+--------------------+\n|               words|  words without stop|\n+--------------------+--------------------+\n|[I, had, a, frien...|[friend, would, g...|\n|[\"My, friend, dea...|[\"My, friend, dea...|\n|[Friend, who, had...|[Friend, big, add...|\n|[Over, the, inter...|[internet, LOT, p...|\n|[Having, gone, th...|[gone, depression...|\n|[My, now, girlfri...|[girlfriend, used...|\n|[\"Only, really, o...|[\"Only, really, o...|\n|[Now, that, I've,...|[I've, it,, altho...|\n|[I've, always, be...|[I've, always, go...|\n|[I, feel, complet...|[feel, completely...|\n|[Took, a, week, o...|[Took, week, work...|\n|[One, of, my, bes...|[One, best, frien...|\n|[I've, had, some,...|[I've, friends, c...|\n|[Haha., In, eight...|[Haha., eight, gr...|\n|[Some, of, my, fr...|[friends, gone, t...|\n|[I, feel, like, d...|[feel, like, depr...|\n|[i've, had, a, co...|[i've, couple, fr...|\n|[I, will, always,...|[always, listen.,...|\n|[A, lot, for, my,...|[lot, friends., g...|\n|[When, my, friend...|[friend, needed, ...|\n|[My, grandmother,...|[grandmother, wen...|\n|[Sometimes, my, f...|[Sometimes, frien...|\n|[Last, year,, my,...|[Last, year,, bes...|\n|[This, is, Sal, a...|[Sal, looking, fi...|\n|[there, are, too,...|[many, remember, ...|\n|[The, one, person...|[one, person, eve...|\n|[I, used, to, tut...|[used, tutor, hom...|\n|[Friend, got, dum...|[Friend, got, dum...|\n|[My, sister, has,...|[sister, pretty, ...|\n|[I, helped, encou...|[helped, encourag...|\n|[I, saved, a, gir...|[saved, girl, sui...|\n|[My, friend, Eric...|[friend, Eric, dr...|\n|[expressing, conc...|[expressing, conc...|\n|[Cleaning, up, my...|[Cleaning, friend...|\n|[a, couple, of, y...|[couple, years, a...|\n|[Always., I, don'...|[Always., don't, ...|\n|[Many, times, for...|[Many, times, one...|\n|[Had, a, friend, ...|[friend, open, me...|\n|[I, have, talked,...|[talked, though, ...|\n|[I, think, my, fr...|[think, friend, w...|\n+--------------------+--------------------+\nonly showing top 40 rows\n\n"
                }
            ],
            "source": "df.select('words', 'words without stop').show(40)"
        },
        {
            "cell_type": "code",
            "execution_count": 34,
            "id": "5716cad3",
            "metadata": {},
            "outputs": [],
            "source": "label = F.udf(lambda x: 1.0 if x == 'escalate' else 0.0, FloatType())\ndf = df.withColumn('label', label('label'))"
        },
        {
            "cell_type": "code",
            "execution_count": 35,
            "id": "08567eb6",
            "metadata": {},
            "outputs": [
                {
                    "name": "stdout",
                    "output_type": "stream",
                    "text": "+-----+\n|label|\n+-----+\n|  1.0|\n|  1.0|\n|  1.0|\n|  0.0|\n|  1.0|\n|  1.0|\n|  0.0|\n|  0.0|\n|  0.0|\n|  1.0|\n|  0.0|\n|  1.0|\n|  1.0|\n|  0.0|\n|  0.0|\n|  1.0|\n|  1.0|\n|  1.0|\n|  0.0|\n|  0.0|\n+-----+\nonly showing top 20 rows\n\n"
                }
            ],
            "source": "df.select('label').show()"
        },
        {
            "cell_type": "code",
            "execution_count": 36,
            "id": "2da08021",
            "metadata": {},
            "outputs": [],
            "source": "import pyspark.ml.feature as feat\nTF_ = feat.HashingTF(inputCol=\"words without stop\", \n                     outputCol=\"rawFeatures\", numFeatures=100000)\nIDF_ = feat.IDF(inputCol=\"rawFeatures\", outputCol=\"features\")"
        },
        {
            "cell_type": "code",
            "execution_count": 37,
            "id": "9926edcb",
            "metadata": {},
            "outputs": [],
            "source": "pipelineTFIDF = Pipeline(stages=[TF_, IDF_])"
        },
        {
            "cell_type": "code",
            "execution_count": 38,
            "id": "c4d942d4",
            "metadata": {},
            "outputs": [],
            "source": "pipelineFit = pipelineTFIDF.fit(df)\ndf = pipelineFit.transform(df)"
        },
        {
            "cell_type": "code",
            "execution_count": 39,
            "id": "c24b1b83",
            "metadata": {},
            "outputs": [
                {
                    "name": "stdout",
                    "output_type": "stream",
                    "text": "+-----+--------------------+--------------------+\n|label|         rawFeatures|            features|\n+-----+--------------------+--------------------+\n|  1.0|(100000,[394,796,...|(100000,[394,796,...|\n|  1.0|(100000,[2543,428...|(100000,[2543,428...|\n|  1.0|(100000,[5055,821...|(100000,[5055,821...|\n|  0.0|(100000,[3199,337...|(100000,[3199,337...|\n|  1.0|(100000,[3199,101...|(100000,[3199,101...|\n|  1.0|(100000,[12080,14...|(100000,[12080,14...|\n|  0.0|(100000,[2795,845...|(100000,[2795,845...|\n|  0.0|(100000,[3199,357...|(100000,[3199,357...|\n|  0.0|(100000,[3765,478...|(100000,[3765,478...|\n|  1.0|(100000,[12335,13...|(100000,[12335,13...|\n|  0.0|(100000,[13048,13...|(100000,[13048,13...|\n|  1.0|(100000,[3199,578...|(100000,[3199,578...|\n|  1.0|(100000,[3199,107...|(100000,[3199,107...|\n|  0.0|(100000,[1129,675...|(100000,[1129,675...|\n|  0.0|(100000,[781,796,...|(100000,[781,796,...|\n|  1.0|(100000,[12335,16...|(100000,[12335,16...|\n|  1.0|(100000,[3199,605...|(100000,[3199,605...|\n|  1.0|(100000,[6061,778...|(100000,[6061,778...|\n|  0.0|(100000,[10001,14...|(100000,[10001,14...|\n|  0.0|(100000,[4288,871...|(100000,[4288,871...|\n+-----+--------------------+--------------------+\nonly showing top 20 rows\n\n"
                }
            ],
            "source": "df.select('label', 'rawFeatures','features').show()"
        },
        {
            "cell_type": "code",
            "execution_count": 40,
            "id": "50ce0b34",
            "metadata": {},
            "outputs": [],
            "source": "(trainingDF, testDF) = df.randomSplit([0.75, 0.25], seed = 1234)"
        },
        {
            "cell_type": "code",
            "execution_count": 41,
            "id": "19266419",
            "metadata": {},
            "outputs": [],
            "source": "from pyspark.ml.classification import LogisticRegression\nlogreg = LogisticRegression(regParam=0.025)"
        },
        {
            "cell_type": "code",
            "execution_count": 48,
            "id": "ad291d7e",
            "metadata": {},
            "outputs": [],
            "source": "logregModel = logreg.fit(trainingDF)"
        },
        {
            "cell_type": "code",
            "execution_count": 49,
            "id": "bdb3b52e",
            "metadata": {},
            "outputs": [],
            "source": "predictionDF = logregModel.transform(testDF)"
        },
        {
            "cell_type": "code",
            "execution_count": 50,
            "id": "25495274",
            "metadata": {},
            "outputs": [
                {
                    "name": "stdout",
                    "output_type": "stream",
                    "text": "+-----+--------------------+----------+\n|label|         probability|prediction|\n+-----+--------------------+----------+\n|  1.0|[0.41468693656149...|       1.0|\n|  1.0|[0.69940061446988...|       0.0|\n|  0.0|[0.78547787109961...|       0.0|\n|  0.0|[0.86854814027744...|       0.0|\n|  0.0|[0.79535014532056...|       0.0|\n|  0.0|[0.63198377097935...|       0.0|\n|  0.0|[0.92180640086346...|       0.0|\n|  0.0|[0.98669525380904...|       0.0|\n|  1.0|[0.54625188308162...|       0.0|\n|  0.0|[0.93749244398690...|       0.0|\n|  1.0|[0.42786173261268...|       1.0|\n|  0.0|[0.94740386695915...|       0.0|\n|  1.0|[0.67112890888696...|       0.0|\n|  0.0|[0.91043100929769...|       0.0|\n|  0.0|[0.97228513283732...|       0.0|\n|  0.0|[0.95492522695999...|       0.0|\n|  0.0|[0.94463904076757...|       0.0|\n|  0.0|[0.92087763824098...|       0.0|\n|  0.0|[0.95093273989543...|       0.0|\n|  1.0|[0.79295021752548...|       0.0|\n+-----+--------------------+----------+\nonly showing top 20 rows\n\n"
                }
            ],
            "source": "predictionDF.select('label', 'probability', 'prediction').show()"
        },
        {
            "cell_type": "code",
            "execution_count": 51,
            "id": "273e88a5",
            "metadata": {},
            "outputs": [
                {
                    "name": "stdout",
                    "output_type": "stream",
                    "text": "+----------------+---+---+\n|label_prediction|0.0|1.0|\n+----------------+---+---+\n|             1.0|  4|  2|\n|             0.0| 24|  0|\n+----------------+---+---+\n\n"
                }
            ],
            "source": "predictionDF.crosstab('label', 'prediction').show()"
        },
        {
            "cell_type": "code",
            "execution_count": 52,
            "id": "c933dcb5",
            "metadata": {},
            "outputs": [],
            "source": "from sklearn import metrics\nactual = predictionDF.select('label').toPandas()\npredicted = predictionDF.select('prediction').toPandas()"
        },
        {
            "cell_type": "code",
            "execution_count": 53,
            "id": "fc305eba",
            "metadata": {},
            "outputs": [
                {
                    "name": "stdout",
                    "output_type": "stream",
                    "text": "accuracy score: 86.7%\n"
                }
            ],
            "source": "print('accuracy score: {}%'.format(round(metrics.accuracy_score(actual, predicted),3)*100))"
        },
        {
            "cell_type": "code",
            "execution_count": 54,
            "id": "69d64d89",
            "metadata": {},
            "outputs": [
                {
                    "name": "stdout",
                    "output_type": "stream",
                    "text": "The ROC score is 97.2%\n"
                }
            ],
            "source": "from pyspark.ml.evaluation import BinaryClassificationEvaluator\n\nscores = predictionDF.select('label', 'rawPrediction')\nevaluator = BinaryClassificationEvaluator()\nprint('The ROC score is {}%'.format(round(evaluator.evaluate(scores),3)*100))"
        },
        {
            "cell_type": "code",
            "execution_count": 55,
            "id": "c671e5fa",
            "metadata": {},
            "outputs": [
                {
                    "name": "stdout",
                    "output_type": "stream",
                    "text": "+-------+------------------+\n|summary|             label|\n+-------+------------------+\n|  count|                30|\n|   mean|               0.2|\n| stddev|0.4068381021724861|\n|    min|               0.0|\n|    max|               1.0|\n+-------+------------------+\n\n"
                }
            ],
            "source": "predictionDF.describe('label').show()"
        },
        {
            "cell_type": "code",
            "execution_count": null,
            "id": "fdf051c3",
            "metadata": {},
            "outputs": [],
            "source": ""
        }
    ],
    "metadata": {
        "kernelspec": {
            "display_name": "Python 3",
            "language": "python",
            "name": "python3"
        },
        "language_info": {
            "codemirror_mode": {
                "name": "ipython",
                "version": 3
            },
            "file_extension": ".py",
            "mimetype": "text/x-python",
            "name": "python",
            "nbconvert_exporter": "python",
            "pygments_lexer": "ipython3",
            "version": "3.8.8"
        }
    },
    "nbformat": 4,
    "nbformat_minor": 5
}